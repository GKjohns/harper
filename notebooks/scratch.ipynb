{
 "cells": [
  {
   "cell_type": "code",
   "execution_count": 11,
   "id": "46654411-6793-44df-aaaa-595c8061897e",
   "metadata": {},
   "outputs": [
    {
     "name": "stdout",
     "output_type": "stream",
     "text": [
      "3.11.5 (main, Sep 11 2023, 08:31:25) [Clang 14.0.6 ]\n"
     ]
    }
   ],
   "source": [
    "# use svg graphics, display inline\n",
    "%matplotlib inline\n",
    "%config InlineBackend.figure_format = 'svg'\n",
    "\n",
    "import glob\n",
    "import re\n",
    "import os\n",
    "import copy\n",
    "import sys\n",
    "import inspect\n",
    "from pathlib import Path\n",
    "from icecream import ic\n",
    "\n",
    "# basic scientific computing imports\n",
    "import numpy as np\n",
    "import pandas as pd\n",
    "import matplotlib.pyplot as plt\n",
    "import statsmodels.formula.api as smf\n",
    "\n",
    "# ai\n",
    "from tqdm import tqdm\n",
    "import ast\n",
    "import openai\n",
    "import google.generativeai as genai\n",
    "\n",
    "# helpers\n",
    "# import bronco\n",
    "\n",
    "# Langchain tools and utilities\n",
    "from langchain.tools import WikipediaQueryRun\n",
    "from langchain.utilities import WikipediaAPIWrapper\n",
    "from langchain.text_splitter import RecursiveCharacterTextSplitter\n",
    "\n",
    "\n",
    "# hex colors for plotting\n",
    "SOFT_PURPLE = '#8565C4'\n",
    "SOFT_RED = '#C23F38'\n",
    "SOFT_GREEN = '#56B000'\n",
    "NEUTRAL_GREY = '#A9A9A9'\n",
    "\n",
    "# display config\n",
    "pd.set_option('display.float_format', lambda x: '%.3f' % x)\n",
    "plt.rcParams['figure.figsize'] = 6, 4\n",
    "plt.style.use('ggplot')\n",
    "np.set_printoptions(suppress=True)\n",
    "np.random.seed(42)\n",
    "\n",
    "print(sys.version)"
   ]
  },
  {
   "cell_type": "code",
   "execution_count": 13,
   "id": "d16d689b-1920-4c14-a0db-f36e4819a053",
   "metadata": {},
   "outputs": [],
   "source": [
    "# Get the current file's directory (not needed in Jupyter, but useful in a script)\n",
    "current_dir = Path(os.getcwd())\n",
    "\n",
    "# Get the parent directory\n",
    "parent_dir = current_dir.parent\n",
    "\n",
    "# Add the parent directory to sys.path\n",
    "sys.path.append(str(parent_dir))\n",
    "\n",
    "import bronco"
   ]
  },
  {
   "cell_type": "code",
   "execution_count": null,
   "id": "911ccb61-cad6-4fcb-963c-6b35c5a7dd04",
   "metadata": {},
   "outputs": [],
   "source": [
    "bronco."
   ]
  },
  {
   "cell_type": "code",
   "execution_count": 3,
   "id": "cc5a866b-868c-49fa-b822-134917a07d81",
   "metadata": {},
   "outputs": [],
   "source": [
    "test_string = '''\n",
    "Sunshine floods the sky on a perfect Saturday morning. A 1990s middle school kid leaps out of bed, excitement bubbling within. No school today! First, it's time for some epic cartoons. They flick on the TV, immersing themselves in the colorful adventures of their favorite characters, laughter filling the room.\n",
    "\n",
    "Breakfast is next – a bowl of the coolest, most sugary cereal, with a prize toy at the bottom. They dig in, crunching happily, while planning the day ahead. The cereal prize, a small action figure, makes a great addition to their collection.\n",
    "\n",
    "Then it's off to meet friends at the local arcade. Quarters jingle in their pockets as they challenge each other at the coolest video games – from Pac-Man to Street Fighter, each victory celebrated with high-fives and laughter.\n",
    "\n",
    "After the arcade, they head to the mall, the hub of all things cool. Browsing through the latest CDs at the music store, they pick out a new album from their favorite band. The thrill of unwrapping the CD, admiring the cover art, and reading the lyrics booklet is unmatched.\n",
    "\n",
    "Lunchtime means a trip to the food court – pizza, of course, with extra cheese and pepperoni. They share jokes and stories, savoring each slice.\n",
    "\n",
    "The afternoon is for outdoor adventures. They hop on their skateboard, feeling the wind in their hair as they zoom down the street, their Walkman playing the latest hits through bright-colored headphones. They meet more friends at the park for a game of street hockey, the thrill of the game making them feel unstoppable.\n",
    "\n",
    "As the sun begins to set, they head back home. Mom's cooking fills the house with mouth-watering smells – tonight, it's their favorite meal. Dinner is full of laughter and shared stories of the day's adventures.\n",
    "\n",
    "Finally, it's time to unwind. They pop a fresh VHS tape into the VCR, a blockbuster movie they've been dying to see. With a bowl of buttery popcorn and a can of soda, they settle in, the glow of the TV lighting up the room.\n",
    "\n",
    "The day concludes with a sense of contentment, the perfect blend of friends, fun, and freedom. As they drift off to sleep, they can't help but think, 'This was the best day ever.\n",
    "\n",
    "-------\n",
    "\n",
    "Suddenly, the scene shifts. The kid awakens, but it's no longer the 1990s. It's 2014, and the world is a whole new playground. They sit up, bewildered yet excited, as they notice the modern gadgets around their room – a smartphone, a tablet, and even a gaming console with graphics that seem light-years ahead of what they knew.\n",
    "\n",
    "First things first, they check out the smartphone. Swiping through apps, they're amazed by the endless possibilities – games, music, videos, and instant communication with friends. They send a few texts, marveling at the speed and emojis!\n",
    "\n",
    "Breakfast is a familiar ritual, but now with a twist. They pour themselves a bowl of organic cereal and check out YouTube on the tablet, watching hilarious viral videos and trending music clips.\n",
    "\n",
    "The day's adventure begins with a meetup with friends, but this time it's planned through a group chat. They all gather at a trendy coffee shop, sipping on frappuccinos and sharing stories. The conversation is full of references to social media, celebrities, and the latest tech gadgets.\n",
    "\n",
    "Then, it's time to hit the mall, but it's not just about shopping anymore. They snap selfies, post them on social media, and laugh at the instant likes and comments they receive. They visit a high-tech store, trying out the latest gadgets – virtual reality headsets, drones, and smartwatches.\n",
    "\n",
    "Lunch is a global affair – a fusion cuisine that's a delightful mix of flavors from around the world, shared over Instagram stories and tweets.\n",
    "\n",
    "The afternoon takes an active turn. They join a flash mob in the park, dancing wildly with dozens of others as someone films it for a YouTube video. Then, it's off to an indoor trampoline park, bouncing around and feeling weightless, their laughter echoing off the walls.\n",
    "\n",
    "As evening sets in, they head home, but the journey is filled with music streaming from their smartphone, a playlist of the latest hits and undiscovered indie gems.\n",
    "\n",
    "Dinner at home is an interactive affair. They help cook a recipe they found on a cooking app, learning and laughing along the way. The family sits around, sharing their day, but now with photos and videos on their devices, bringing stories to life.\n",
    "\n",
    "The night winds down with a movie, but it's streamed on a large flat-screen TV with surround sound, a cinematic experience right in their living room. They chat with friends online about the movie, sharing thoughts and laughs.\n",
    "\n",
    "As they drift off to sleep in this new, exciting world of 2014, they think, 'Today was even better than the best day ever.' The blend of technology, connectivity, and endless possibilities has made it an unforgettable experience.\n",
    "'''"
   ]
  },
  {
   "cell_type": "code",
   "execution_count": 34,
   "id": "43a70f9f-ab20-4b11-bad7-d891e5446e8a",
   "metadata": {},
   "outputs": [],
   "source": [
    "# bronco.components.recursive_summarize(\n",
    "#     document=test_string,\n",
    "#     max_chunk_size=200,\n",
    "#     output_word_count=25\n",
    "# )"
   ]
  },
  {
   "cell_type": "code",
   "execution_count": 6,
   "id": "d88ea618-f860-43c0-bc2e-7c148cb06c89",
   "metadata": {},
   "outputs": [
    {
     "name": "stdout",
     "output_type": "stream",
     "text": [
      "What is your name? Answer in the style of a famous movie character but don't tell me who. \n",
      "\n",
      "gpt-3.5-turbo: My name is a legend whispered in the shadows, a name that strikes fear into the hearts of men. But you, my friend, may call me... The Dark Knight.\n",
      "\n",
      "gpt-4: The name's Assistant. AI Assistant.\n",
      "\n",
      "gemini-pro: \"My name is Inigo Montoya. You killed my father. Prepare to die.\"\n",
      "\n"
     ]
    }
   ],
   "source": [
    "question = 'What is your name? Answer in the style of a famous movie character but don\\'t tell me who.'\n",
    "print(question, '\\n')\n",
    "\n",
    "for model in bronco.VALID_MODELS:\n",
    "    response = bronco.llm_call(question, model_name=model)\n",
    "    print(f'{model}: {response}\\n')"
   ]
  },
  {
   "cell_type": "code",
   "execution_count": 3,
   "id": "93356c80-78fd-434d-8d41-88255af19a5e",
   "metadata": {},
   "outputs": [
    {
     "name": "stdout",
     "output_type": "stream",
     "text": [
      "Generating 3 animals: ['lion', 'elephant', 'giraffe']\n",
      "The list contains 3 items, good job!\n",
      "\n",
      "Generating 6 animals: ['lion', 'elephant', 'giraffe', 'tiger', 'zebra', 'monkey']\n",
      "The list contains 6 items, good job!\n",
      "\n",
      "Generating 9 animals: ['lion', 'elephant', 'tiger', 'giraffe', 'zebra', 'monkey', 'penguin', 'dolphin', 'koala']\n",
      "The list contains 9 items, good job!\n",
      "\n"
     ]
    }
   ],
   "source": [
    "gen_animals_prompt = '''\n",
    "Your job is to generate a list of {n_animals} animals.\n",
    "Ensure that your list is in the form of a valid python list of strings.\n",
    "\n",
    "Example: ['animal_1', 'animal_2', ..., 'animal_n']\n",
    "\n",
    "Your Output:\n",
    "'''\n",
    "\n",
    "def extract_list(string):\n",
    "    pattern = r'\\[.*?\\]'\n",
    "    result = re.findall(pattern, string)\n",
    "    if result:\n",
    "        return eval(result[0])\n",
    "    else:\n",
    "        return []\n",
    "\n",
    "animal_generator = bronco.LLMFunction(\n",
    "    prompt_template=gen_animals_prompt,\n",
    "    parser=extract_list\n",
    ")\n",
    "\n",
    "for n in (3, 6, 9):\n",
    "    result = animal_generator.generate({'n_animals': n})\n",
    "    print(f'Generating {n} animals: {result}')\n",
    "    print(f'The list contains {len(result)} items, {\"good\" if len(result) == n else \"bad\"} job!\\n')"
   ]
  },
  {
   "cell_type": "markdown",
   "id": "d2f9dc1c-68d8-4d5e-8644-08c00646f5aa",
   "metadata": {},
   "source": [
    "Add Summarize if long functionality to `LLMFunction`"
   ]
  },
  {
   "cell_type": "code",
   "execution_count": 2,
   "id": "3d14ffe0-4d4e-4443-97ef-aa0098acd399",
   "metadata": {
    "jupyter": {
     "source_hidden": true
    }
   },
   "outputs": [],
   "source": [
    "test_string = '''\n",
    "Sunshine floods the sky on a perfect Saturday morning. A 1990s middle school kid leaps out of bed, excitement bubbling within. No school today! First, it's time for some epic cartoons. They flick on the TV, immersing themselves in the colorful adventures of their favorite characters, laughter filling the room.\n",
    "\n",
    "Breakfast is next – a bowl of the coolest, most sugary cereal, with a prize toy at the bottom. They dig in, crunching happily, while planning the day ahead. The cereal prize, a small action figure, makes a great addition to their collection.\n",
    "\n",
    "Then it's off to meet friends at the local arcade. Quarters jingle in their pockets as they challenge each other at the coolest video games – from Pac-Man to Street Fighter, each victory celebrated with high-fives and laughter.\n",
    "\n",
    "After the arcade, they head to the mall, the hub of all things cool. Browsing through the latest CDs at the music store, they pick out a new album from their favorite band. The thrill of unwrapping the CD, admiring the cover art, and reading the lyrics booklet is unmatched.\n",
    "\n",
    "Lunchtime means a trip to the food court – pizza, of course, with extra cheese and pepperoni. They share jokes and stories, savoring each slice.\n",
    "\n",
    "The afternoon is for outdoor adventures. They hop on their skateboard, feeling the wind in their hair as they zoom down the street, their Walkman playing the latest hits through bright-colored headphones. They meet more friends at the park for a game of street hockey, the thrill of the game making them feel unstoppable.\n",
    "\n",
    "As the sun begins to set, they head back home. Mom's cooking fills the house with mouth-watering smells – tonight, it's their favorite meal. Dinner is full of laughter and shared stories of the day's adventures.\n",
    "\n",
    "Finally, it's time to unwind. They pop a fresh VHS tape into the VCR, a blockbuster movie they've been dying to see. With a bowl of buttery popcorn and a can of soda, they settle in, the glow of the TV lighting up the room.\n",
    "\n",
    "The day concludes with a sense of contentment, the perfect blend of friends, fun, and freedom. As they drift off to sleep, they can't help but think, 'This was the best day ever.\n",
    "\n",
    "-------\n",
    "\n",
    "Suddenly, the scene shifts. The kid awakens, but it's no longer the 1990s. It's 2014, and the world is a whole new playground. They sit up, bewildered yet excited, as they notice the modern gadgets around their room – a smartphone, a tablet, and even a gaming console with graphics that seem light-years ahead of what they knew.\n",
    "\n",
    "First things first, they check out the smartphone. Swiping through apps, they're amazed by the endless possibilities – games, music, videos, and instant communication with friends. They send a few texts, marveling at the speed and emojis!\n",
    "\n",
    "Breakfast is a familiar ritual, but now with a twist. They pour themselves a bowl of organic cereal and check out YouTube on the tablet, watching hilarious viral videos and trending music clips.\n",
    "\n",
    "The day's adventure begins with a meetup with friends, but this time it's planned through a group chat. They all gather at a trendy coffee shop, sipping on frappuccinos and sharing stories. The conversation is full of references to social media, celebrities, and the latest tech gadgets.\n",
    "\n",
    "Then, it's time to hit the mall, but it's not just about shopping anymore. They snap selfies, post them on social media, and laugh at the instant likes and comments they receive. They visit a high-tech store, trying out the latest gadgets – virtual reality headsets, drones, and smartwatches.\n",
    "\n",
    "Lunch is a global affair – a fusion cuisine that's a delightful mix of flavors from around the world, shared over Instagram stories and tweets.\n",
    "\n",
    "The afternoon takes an active turn. They join a flash mob in the park, dancing wildly with dozens of others as someone films it for a YouTube video. Then, it's off to an indoor trampoline park, bouncing around and feeling weightless, their laughter echoing off the walls.\n",
    "\n",
    "As evening sets in, they head home, but the journey is filled with music streaming from their smartphone, a playlist of the latest hits and undiscovered indie gems.\n",
    "\n",
    "Dinner at home is an interactive affair. They help cook a recipe they found on a cooking app, learning and laughing along the way. The family sits around, sharing their day, but now with photos and videos on their devices, bringing stories to life.\n",
    "\n",
    "The night winds down with a movie, but it's streamed on a large flat-screen TV with surround sound, a cinematic experience right in their living room. They chat with friends online about the movie, sharing thoughts and laughs.\n",
    "\n",
    "As they drift off to sleep in this new, exciting world of 2014, they think, 'Today was even better than the best day ever.' The blend of technology, connectivity, and endless possibilities has made it an unforgettable experience.\n",
    "'''"
   ]
  },
  {
   "cell_type": "code",
   "execution_count": 41,
   "id": "06d2e68c-716c-4d00-a748-dd685d187615",
   "metadata": {},
   "outputs": [
    {
     "name": "stdout",
     "output_type": "stream",
     "text": [
      "The text describes a perfect day in the 1990s for a middle school kid, filled with cartoons, sugary cereal, arcade games, shopping at the mall, outdoor adventures, and watching a movie on VHS. The scene then shifts to 2014, where the kid experiences a day filled with modern gadgets like smartphones, tablets, and gaming consoles. They enjoy social media, viral videos, trendy coffee shops, high-tech stores, global cuisine, flash mobs, trampoline parks, streaming music, interactive cooking, and streaming movies. The blend of technology and endless possibilities makes it an unforgettable experience.\n"
     ]
    }
   ],
   "source": [
    "summarizer_prompt = '''\n",
    "# Task\n",
    "Please summarize the text below.\n",
    "Ensure that your summary is at most {output_word_count} words.\n",
    "Be sure to include the most important information.\n",
    "Do not include any commentary other than your summary.\n",
    "If it seems like there are jumps or its incoherent, do your best to make the summary coherent.\n",
    "\n",
    "\n",
    "# Text to summarize\n",
    "{text}\n",
    "\n",
    "\n",
    "# Your output (only a summary that is at most {output_word_count} words)\n",
    "'''\n",
    "\n",
    "summarizer = bronco.LLMFunction(\n",
    "    prompt_template=summarizer_prompt,\n",
    "    # parser=parser\n",
    ")\n",
    "\n",
    "summary = summarizer.generate({\n",
    "    'text': test_string,\n",
    "    'model': bronco.GPT_4,\n",
    "    'output_word_count': 100\n",
    "})\n",
    "\n",
    "print(summary)"
   ]
  },
  {
   "cell_type": "code",
   "execution_count": 51,
   "id": "05fbcde4-fbf6-4570-bdec-f5e45b4b6963",
   "metadata": {},
   "outputs": [
    {
     "name": "stdout",
     "output_type": "stream",
     "text": [
      "\n",
      "Sunshine floods the sky on a perfect Saturday morning. A 1990s middle school kid leaps out of bed, excitement bubbling within. No school today! First, it's time for some epic cartoons. They flick on the TV, immersing themselves in the colorful adventures of their favorite characters, laughter filling the room.\n",
      "\n",
      "Breakfast is next – a bowl of the coolest, most sugary cereal, with a prize toy at the bottom. They dig in, crunching happily, while planning the day ahead. The cereal prize, a small action figure, makes a great addition to their collection.\n",
      "\n",
      "Then it's off to meet friends at the local arcade. Quarters jingle in their pockets as they challenge each other at the coolest video games – from Pac-Man to Street Fighter, each victory celebrated with high-fives and laughter.\n",
      "\n",
      "After the arcade, they head to the mall, the hub of all things cool. Browsing through the latest CDs at the music store, they pick out a new album from their favorite band. The thrill of unwrapping the CD, admiring the cover art, and reading the lyrics booklet is unmatched.\n",
      "\n",
      "Lunchtime means a trip to the food court – pizza, of course, with extra cheese and pepperoni. They share jokes and stories, \n",
      "#####################\n",
      "savoring each slice.\n",
      "\n",
      "The afternoon is for outdoor adventures. They hop on their skateboard, feeling the wind in their hair as they zoom down the street, their Walkman playing the latest hits through bright-colored headphones. They meet more friends at the park for a game of street hockey, the thrill of the game making them feel unstoppable.\n",
      "\n",
      "As the sun begins to set, they head back home. Mom's cooking fills the house with mouth-watering smells – tonight, it's their favorite meal. Dinner is full of laughter and shared stories of the day's adventures.\n",
      "\n",
      "Finally, it's time to unwind. They pop a fresh VHS tape into the VCR, a blockbuster movie they've been dying to see. With a bowl of buttery popcorn and a can of soda, they settle in, the glow of the TV lighting up the room.\n",
      "\n",
      "The day concludes with a sense of contentment, the perfect blend of friends, fun, and freedom. As they drift off to sleep, they can't help but think, 'This was the best day ever.\n",
      "\n",
      "-------\n",
      "\n",
      "Suddenly, the scene shifts. The kid awakens, but it's no longer the 1990s. It's 2014, and the world is a whole new playground. They sit up, bewildered yet excited, as they notice the modern \n",
      "#####################\n",
      "gadgets around their room – a smartphone, a tablet, and even a gaming console with graphics that seem light-years ahead of what they knew.\n",
      "\n",
      "First things first, they check out the smartphone. Swiping through apps, they're amazed by the endless possibilities – games, music, videos, and instant communication with friends. They send a few texts, marveling at the speed and emojis!\n",
      "\n",
      "Breakfast is a familiar ritual, but now with a twist. They pour themselves a bowl of organic cereal and check out YouTube on the tablet, watching hilarious viral videos and trending music clips.\n",
      "\n",
      "The day's adventure begins with a meetup with friends, but this time it's planned through a group chat. They all gather at a trendy coffee shop, sipping on frappuccinos and sharing stories. The conversation is full of references to social media, celebrities, and the latest tech gadgets.\n",
      "\n",
      "Then, it's time to hit the mall, but it's not just about shopping anymore. They snap selfies, post them on social media, and laugh at the instant likes and comments they receive. They visit a high-tech store, trying out the latest gadgets – virtual reality headsets, drones, and smartwatches.\n",
      "\n",
      "Lunch is a global affair – a fusion cuisine that's a delightful mix of flavors \n",
      "#####################\n",
      "from around the world, shared over Instagram stories and tweets.\n",
      "\n",
      "The afternoon takes an active turn. They join a flash mob in the park, dancing wildly with dozens of others as someone films it for a YouTube video. Then, it's off to an indoor trampoline park, bouncing around and feeling weightless, their laughter echoing off the walls.\n",
      "\n",
      "As evening sets in, they head home, but the journey is filled with music streaming from their smartphone, a playlist of the latest hits and undiscovered indie gems.\n",
      "\n",
      "Dinner at home is an interactive affair. They help cook a recipe they found on a cooking app, learning and laughing along the way. The family sits around, sharing their day, but now with photos and videos on their devices, bringing stories to life.\n",
      "\n",
      "The night winds down with a movie, but it's streamed on a large flat-screen TV with surround sound, a cinematic experience right in their living room. They chat with friends online about the movie, sharing thoughts and laughs.\n",
      "\n",
      "As they drift off to sleep in this new, exciting world of 2014, they think, 'Today was even better than the best day ever.' The blend of technology, connectivity, and endless possibilities has made it an unforgettable experience.\n",
      " \n",
      "#####################\n",
      "The text provided is too short to be summarized.\n"
     ]
    }
   ],
   "source": [
    "def summarize(doc, output_word_count):\n",
    "    \n",
    "    summarizer = bronco.LLMFunction(summarizer_prompt)\n",
    "    summary = summarizer.generate({\n",
    "        'text': doc,\n",
    "        'model': bronco.GPT_3_5_TURBO,\n",
    "        'output_word_count': output_word_count\n",
    "    })\n",
    "    return summary\n",
    "    \n",
    "\n",
    "def recursive_summarize(doc, max_chunk_size=1000, output_word_count=200, current_depth=0, max_depth=15):\n",
    "    \"\"\"\n",
    "    Recursively summarize a document by splitting it in half, summarizing each half,\n",
    "    and then summarizing the summaries.\n",
    "\n",
    "    :param doc: The document to be summarized.\n",
    "    :param output_word_count: The desired word count of the final summary.\n",
    "    :param current_depth: Current depth of recursion.\n",
    "    :param max_depth: Maximum depth of recursion to prevent infinite loops.\n",
    "    :return: A summary of the document.\n",
    "    \"\"\"\n",
    "    # Base case: If the document is already short enough or max recursion depth reached\n",
    "    if len(doc.split(' ')) <= max_chunk_size or current_depth >= max_depth:\n",
    "        return summarize(doc, output_word_count)\n",
    "\n",
    "    # Split the document in half\n",
    "    words = doc.split(' ')\n",
    "    mid_point = len(words) // 2\n",
    "    first_half = \" \".join(words[:mid_point])    \n",
    "    second_half = \" \".join(words[mid_point:])\n",
    "\n",
    "    # Recursively summarize each half\n",
    "    summary_first_half = recursive_summarize(first_half, output_word_count, current_depth + 1, max_depth)\n",
    "    summary_second_half = recursive_summarize(second_half, output_word_count, current_depth + 1, max_depth)\n",
    "\n",
    "    # Combine and summarize the two summaries\n",
    "    combined_summary = summary_first_half + '\\n\\n' + summary_second_half    \n",
    "    final_summary = summarize(combined_summary, output_word_count)\n",
    "\n",
    "    return final_summary\n",
    "\n",
    "summary = recursive_summarize(test_string, max_chunk_size=200, output_word_count=200, max_depth=4)\n",
    "\n",
    "print(summary)"
   ]
  },
  {
   "cell_type": "code",
   "execution_count": 18,
   "id": "eb9a4aac-816d-4f5b-a945-2ae0d39cfd26",
   "metadata": {},
   "outputs": [
    {
     "data": {
      "text/plain": [
       "\"\\nSunshine floods the sky on a perfect Saturday morning. A 1990s middle school kid leaps out of bed, excitement bubbling within. No school today! First, it's time for some epic cartoons. They flick on the TV, immersing themselves in the colorful adventures of their favorite characters, laughter filling the room.\\n\\nBreakfast is next – a bowl of the coolest, most sugary cereal, with a prize toy at the bottom. They dig in, crunching happily, while planning the day ahead. The cereal prize, a small action figure, makes a great addition to their collection.\\n\\nThen it's off to meet friends at the local arcade. Quarters jingle in their pockets as they challenge each other at the coolest video games – from Pac-Man to Street Fighter, each victory celebrated with high-fives and laughter.\\n\\nAfter the arcade, they head to the mall, the hub of all things cool. Browsing through the latest CDs at the music store, they pick out a new album from their favorite band. The thrill of unwrapping the CD, admiring the cover art, and reading the lyrics booklet is unmatched.\\n\\nLunchtime means a trip to the food court – pizza, of course, with extra cheese and pepperoni. They share jokes and stories, savoring each slice.\\n\\nThe afternoon is for outdoor adventures. They hop on their skateboard, feeling the wind in their hair as they zoom down the street, their Walkman playing the latest hits through bright-colored headphones. They meet more friends at the park for a game of street hockey, the thrill of the game making them feel unstoppable.\\n\\nAs the sun begins to set, they head back home. Mom's cooking fills the house with mouth-watering smells – tonight, it's their favorite meal. Dinner is full of laughter and shared stories of the day's adventures.\\n\\nFinally, it's time to unwind. They pop a fresh VHS tape into the VCR, a blockbuster movie they've been dying to see. With a bowl of buttery popcorn and a can of soda, they settle in, the glow of the TV lighting up the room.\\n\\nThe day concludes with a sense of contentment, the perfect blend of friends, fun, and freedom. As they drift off to sleep, they can't help but think, 'This was the best day ever.\\n\\n-------\\n\\nSuddenly, the scene shifts. The kid awakens, but it's no longer the 1990s. It's 2014, and the world is a whole new playground. They sit up, bewildered yet excited, as they notice the modern gadgets around their room – a smartphone, a tablet, and even a gaming console with graphics that seem light-years ahead of what they knew.\\n\\nFirst things first, they check out the smartphone. Swiping through apps, they're amazed by the endless possibilities – games, music, videos, and instant communication with friends. They send a few texts, marveling at the speed and emojis!\\n\\nBreakfast is a familiar ritual, but now with a twist. They pour themselves a bowl of organic cereal and check out YouTube on the tablet, watching hilarious viral videos and trending music clips.\\n\\nThe day's adventure begins with a meetup with friends, but this time it's planned through a group chat. They all gather at a trendy coffee shop, sipping on frappuccinos and sharing stories. The conversation is full of references to social media, celebrities, and the latest tech gadgets.\\n\\nThen, it's time to hit the mall, but it's not just about shopping anymore. They snap selfies, post them on social media, and laugh at the instant likes and comments they receive. They visit a high-tech store, trying out the latest gadgets – virtual reality headsets, drones, and smartwatches.\\n\\nLunch is a global affair – a fusion cuisine that's a delightful mix of flavors from around the world, shared over Instagram stories and tweets.\\n\\nThe afternoon takes an active turn. They join a flash mob in the park, dancing wildly with dozens of others as someone films it for a YouTube video. Then, it's off to an indoor trampoline park, bouncing around and feeling weightless, their laughter echoing off the walls.\\n\\nAs evening sets in, they head home, but the journey is filled with music streaming from their smartphone, a playlist of the latest hits and undiscovered indie gems.\\n\\nDinner at home is an interactive affair. They help cook a recipe they found on a cooking app, learning and laughing along the way. The family sits around, sharing their day, but now with photos and videos on their devices, bringing stories to life.\\n\\nThe night winds down with a movie, but it's streamed on a large flat-screen TV with surround sound, a cinematic experience right in their living room. They chat with friends online about the movie, sharing thoughts and laughs.\\n\\nAs they drift off to sleep in this new, exciting world of 2014, they think, 'Today was even better than the best day ever.' The blend of technology, connectivity, and endless possibilities has made it an unforgettable experience.\\n\""
      ]
     },
     "execution_count": 18,
     "metadata": {},
     "output_type": "execute_result"
    }
   ],
   "source": [
    "test_string"
   ]
  },
  {
   "cell_type": "code",
   "execution_count": null,
   "id": "706ffe3c-b796-4e3a-8f50-cd3003e1a80c",
   "metadata": {},
   "outputs": [],
   "source": []
  }
 ],
 "metadata": {
  "kernelspec": {
   "display_name": "Python 3 (ipykernel)",
   "language": "python",
   "name": "python3"
  },
  "language_info": {
   "codemirror_mode": {
    "name": "ipython",
    "version": 3
   },
   "file_extension": ".py",
   "mimetype": "text/x-python",
   "name": "python",
   "nbconvert_exporter": "python",
   "pygments_lexer": "ipython3",
   "version": "3.11.5"
  }
 },
 "nbformat": 4,
 "nbformat_minor": 5
}
